{
 "cells": [
  {
   "cell_type": "code",
   "execution_count": null,
   "id": "6e1188da",
   "metadata": {},
   "outputs": [],
   "source": [
    "import pandas as pd\n",
    "import numpy as np\n",
    "import itertools\n",
    "from matplotlib import pyplot as plt"
   ]
  },
  {
   "cell_type": "code",
   "execution_count": null,
   "id": "dcd5d976",
   "metadata": {},
   "outputs": [],
   "source": [
    "df = pd.read_csv(\"\",sep=\"\\t\",low_memory=False)"
   ]
  },
  {
   "cell_type": "code",
   "execution_count": null,
   "id": "114cc09e",
   "metadata": {},
   "outputs": [],
   "source": [
    "\"\"\"\n",
    "mapper = {\n",
    "    \"Raw file\" : \"Raw file\",\n",
    "    \"Proteins\" : \"Proteins\",\n",
    "    \"Modified sequence\" : \"Modified sequence\",\n",
    "    \"Charge\" : \"Charge\"\n",
    "}\n",
    "\n",
    "meta_data = {\n",
    "    \"software\" : \"MaxQuant\",\n",
    "    \"version\" : \"1.5.8.3\",\n",
    "    \"MBR\" : True,\n",
    "    \"fasta\" : \"human_yeast_ecoli.fasta\"\n",
    "}\n",
    "\n",
    "replicate_mapper = {\n",
    " 'LFQ_Orbitrap_DDA_Condition_A_Sample_Alpha_01' : 1,\n",
    " 'LFQ_Orbitrap_DDA_Condition_A_Sample_Alpha_02' : 1,\n",
    " 'LFQ_Orbitrap_DDA_Condition_A_Sample_Alpha_03' : 1,\n",
    " 'LFQ_Orbitrap_DDA_Condition_B_Sample_Alpha_01' : 2,\n",
    " 'LFQ_Orbitrap_DDA_Condition_B_Sample_Alpha_02' : 2,\n",
    " 'LFQ_Orbitrap_DDA_Condition_B_Sample_Alpha_03' : 2,\n",
    "}\n",
    "\n",
    "species_dict = {\n",
    "    \"YEAST\" : \"_YEAST\",\n",
    "    \"ECOLI\" : \"_ECOLI\",\n",
    "    \"HUMAN\" : \"_HUMAN\"\n",
    "}\n",
    "\n",
    "decoy_flag = \"+\"\n",
    "\"\"\"\n",
    "\n",
    "mapper = {\n",
    "    \"shortname\" : \"Raw file\",\n",
    "    \"protein\" : \"Proteins\",\n",
    "    \"sequence\" : \"Modified sequence\",\n",
    "    \"charge\" : \"Charge\",\n",
    "    \"decoy\" : \"Reverse\",\n",
    "    \"ms1_int_sum_apex_dn\" : \"Intensity\"\n",
    "}\n",
    "\n",
    "meta_data = {\n",
    "    \"software\" : \"AlphaPept\",\n",
    "    \"version\" : \"0-4-8_default\",\n",
    "    \"MBR\" : True,\n",
    "    \"fasta\" : \"human_yeast_ecoli.fasta\"\n",
    "}\n",
    "\n",
    "replicate_mapper = {\n",
    " 'LFQ_Orbitrap_DDA_Condition_A_Sample_Alpha_01' : 1,\n",
    " 'LFQ_Orbitrap_DDA_Condition_A_Sample_Alpha_02' : 1,\n",
    " 'LFQ_Orbitrap_DDA_Condition_A_Sample_Alpha_03' : 1,\n",
    " 'LFQ_Orbitrap_DDA_Condition_B_Sample_Alpha_01' : 2,\n",
    " 'LFQ_Orbitrap_DDA_Condition_B_Sample_Alpha_02' : 2,\n",
    " 'LFQ_Orbitrap_DDA_Condition_B_Sample_Alpha_03' : 2,\n",
    "}\n",
    "\n",
    "species_dict = {\n",
    "    \"YEAST\" : \"_YEAST\",\n",
    "    \"ECOLI\" : \"_ECOLI\",\n",
    "    \"HUMAN\" : \"_HUMAN\"\n",
    "}\n",
    "\n",
    "\n",
    "species_expected_ratio = {\n",
    "    \"YEAST\" : {\"1|2\" : 0.5},\n",
    "    \"ECOLI\" : {\"1|2\" : 1.5},\n",
    "    \"HUMAN\" : {\"1|2\" : 1.0}\n",
    "}\n",
    "\n",
    "contaminant_flag = \"Cont_\"\n",
    "decoy_flag = True\n",
    "min_count_multispec = 1"
   ]
  },
  {
   "cell_type": "code",
   "execution_count": null,
   "id": "7373020c",
   "metadata": {},
   "outputs": [],
   "source": [
    "df.rename(columns=mapper,inplace=True)"
   ]
  },
  {
   "cell_type": "code",
   "execution_count": null,
   "id": "7bb4989e",
   "metadata": {},
   "outputs": [],
   "source": [
    "replicate_to_raw = {}\n",
    "for k,v in replicate_mapper.items():\n",
    "    try:\n",
    "        replicate_to_raw[v].append(k) \n",
    "    except KeyError:\n",
    "        replicate_to_raw[v] = [k]"
   ]
  },
  {
   "cell_type": "code",
   "execution_count": null,
   "id": "9ff19da5",
   "metadata": {},
   "outputs": [],
   "source": [
    "df = df[df[\"Reverse\"] != decoy_flag]"
   ]
  },
  {
   "cell_type": "code",
   "execution_count": null,
   "id": "f3ac4bdb",
   "metadata": {},
   "outputs": [],
   "source": [
    "df[\"contaminant\"] = df[\"Proteins\"].str.contains(contaminant_flag)\n",
    "for species,flag in species_dict.items():\n",
    "    df[species] = df[\"Proteins\"].str.contains(flag)\n",
    "df[\"MULTI_SPEC\"] = (df[list(species_dict.keys())].sum(axis=1) > min_count_multispec)\n",
    "df[\"replicate\"] = df[\"Raw file\"].map(replicate_mapper)"
   ]
  },
  {
   "cell_type": "code",
   "execution_count": null,
   "id": "c8dab351",
   "metadata": {},
   "outputs": [],
   "source": [
    "df = pd.concat([df,pd.get_dummies(df[\"Raw file\"])],axis=1)"
   ]
  },
  {
   "cell_type": "code",
   "execution_count": null,
   "id": "80670b8c",
   "metadata": {},
   "outputs": [],
   "source": [
    "df = df[df[\"MULTI_SPEC\"] == False]"
   ]
  },
  {
   "cell_type": "code",
   "execution_count": null,
   "id": "ad6df326",
   "metadata": {},
   "outputs": [],
   "source": [
    "df.loc[df.index,\"peptidoform\"] = df.loc[df.index,\"Modified sequence\"]+df.loc[df.index,\"Charge\"].astype(str)\n",
    "grouped_sum = df.groupby([\"peptidoform\"]).sum()[replicate_mapper.keys()].min(axis=1)\n",
    "allowed_peptidoforms = list(grouped_sum[grouped_sum != 0].index)\n",
    "filtered_df = df[df[\"peptidoform\"].isin(allowed_peptidoforms)]"
   ]
  },
  {
   "cell_type": "code",
   "execution_count": null,
   "id": "f35a7be6",
   "metadata": {},
   "outputs": [],
   "source": [
    "num_vertical = len(set(filtered_df[filtered_df[list(replicate_mapper.keys())[0]] != 0][\"peptidoform\"]))"
   ]
  },
  {
   "cell_type": "code",
   "execution_count": null,
   "id": "66474539",
   "metadata": {},
   "outputs": [],
   "source": [
    "quant_df = filtered_df.groupby([\"peptidoform\",\"Raw file\"]).mean()[\"Intensity\"].fillna(0.0) #[\"Intensity\"]"
   ]
  },
  {
   "cell_type": "code",
   "execution_count": null,
   "id": "c0fee25e",
   "metadata": {},
   "outputs": [],
   "source": [
    "def get_cv(peptidoforms_replicate,alpha=1e-20):\n",
    "    return (np.std(peptidoforms_replicate)/(np.mean(peptidoforms_replicate)+alpha))*100\n",
    "\n",
    "replicate_quant_list = {}\n",
    "\n",
    "for replicate,replicate_runs in replicate_to_raw.items():\n",
    "    selected_replicate_df = quant_df.index.get_level_values(\"Raw file\").isin(replicate_runs)\n",
    "    replicate_quant_df = quant_df[selected_replicate_df]\n",
    "    \n",
    "    cv_series = replicate_quant_df.groupby([\"peptidoform\"]).apply(get_cv)\n",
    "    replicate_quant_list[replicate] = cv_series"
   ]
  },
  {
   "cell_type": "code",
   "execution_count": null,
   "id": "475ecd75",
   "metadata": {},
   "outputs": [],
   "source": [
    "cv_replicate_quant_df = pd.DataFrame(replicate_quant_list)"
   ]
  },
  {
   "cell_type": "code",
   "execution_count": null,
   "id": "bbb15001",
   "metadata": {},
   "outputs": [],
   "source": [
    "species_peptidoform = list(species_dict.keys())\n",
    "species_peptidoform.append(\"peptidoform\")\n",
    "peptidoform_to_species = df[species_peptidoform].drop_duplicates()\n",
    "peptidoform_to_species.index = peptidoform_to_species[\"peptidoform\"]\n",
    "peptidoform_to_species_dict = peptidoform_to_species.T.to_dict()"
   ]
  },
  {
   "cell_type": "code",
   "execution_count": null,
   "id": "18204602",
   "metadata": {},
   "outputs": [],
   "source": [
    "species_quant_df = pd.DataFrame([peptidoform_to_species_dict[idx] for idx in cv_replicate_quant_df.index])\n",
    "species_quant_df.set_index(\"peptidoform\", drop = True, inplace = True)"
   ]
  },
  {
   "cell_type": "code",
   "execution_count": null,
   "id": "88ce81ad",
   "metadata": {},
   "outputs": [],
   "source": [
    "cv_replicate_quant_species_df = pd.concat([cv_replicate_quant_df,species_quant_df],axis=1)"
   ]
  },
  {
   "cell_type": "code",
   "execution_count": null,
   "id": "974b9a3e",
   "metadata": {},
   "outputs": [],
   "source": [
    "ratio_dict = {}\n",
    "for species in species_dict.keys():\n",
    "    species_df_slice = cv_replicate_quant_species_df[cv_replicate_quant_species_df[species] == True]\n",
    "    for conditions in itertools.combinations(set(replicate_mapper.values()),2):\n",
    "        condition_comp_id = \"|\".join(map(str,conditions))\n",
    "        \n",
    "        ratio = species_df_slice[conditions[0]]/species_df_slice[conditions[1]]\n",
    "        ratio_diff = abs(ratio-species_expected_ratio[species][condition_comp_id])*100\n",
    "        \n",
    "        try:\n",
    "            ratio_dict[condition_comp_id+\"_ratio\"] = pd.concat([ratio,ratio_dict[condition_comp_id+\"_ratio\"]])\n",
    "            ratio_dict[condition_comp_id+\"_expected_ratio_diff\"] = pd.concat([ratio_dict[condition_comp_id+\"_expected_ratio_diff\"],ratio_diff])\n",
    "        except KeyError:\n",
    "            ratio_dict[condition_comp_id+\"_ratio\"] = ratio\n",
    "            ratio_dict[condition_comp_id+\"_expected_ratio_diff\"] = ratio_diff\n",
    "ratio_df = pd.DataFrame(ratio_dict)"
   ]
  },
  {
   "cell_type": "code",
   "execution_count": null,
   "id": "773ca468",
   "metadata": {},
   "outputs": [],
   "source": [
    "result_performance = pd.concat([cv_replicate_quant_species_df,ratio_df],axis=1)"
   ]
  },
  {
   "cell_type": "code",
   "execution_count": null,
   "id": "04d02e22",
   "metadata": {},
   "outputs": [],
   "source": [
    "result_performance.to_csv(f\"{meta_data['software']}-{meta_data['version']}.csv\")\n",
    "pd.Series(meta_data).to_csv(f\"{meta_data['software']}-{meta_data['version']}.meta.csv\")"
   ]
  }
 ],
 "metadata": {
  "kernelspec": {
   "display_name": "Python 3 (ipykernel)",
   "language": "python",
   "name": "python3"
  },
  "language_info": {
   "codemirror_mode": {
    "name": "ipython",
    "version": 3
   },
   "file_extension": ".py",
   "mimetype": "text/x-python",
   "name": "python",
   "nbconvert_exporter": "python",
   "pygments_lexer": "ipython3",
   "version": "3.9.7"
  }
 },
 "nbformat": 4,
 "nbformat_minor": 5
}
