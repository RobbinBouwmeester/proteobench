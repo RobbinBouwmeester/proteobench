{
 "cells": [
  {
   "cell_type": "markdown",
   "id": "02307787",
   "metadata": {},
   "source": [
    "# Module_001_DDA\n",
    "\n",
    "Participants (both end-users and developers) can download a set of input files (e.g. raw MS files, search databases, or spectral libraries) tailored to specific benchmark metrics. They can then analyze the data with any workflow, and upload the results in a homogenized format. A set of metrics will be retrieved or calculated from these results and can be visualized alongside all the other benchmarks calculated from the results of other participants (or of curated benchmark runs)."
   ]
  },
  {
   "cell_type": "code",
   "execution_count": null,
   "id": "74d04ee1",
   "metadata": {},
   "outputs": [],
   "source": []
  }
 ],
 "metadata": {
  "kernelspec": {
   "display_name": "Python 3 (ipykernel)",
   "language": "python",
   "name": "python3"
  },
  "language_info": {
   "codemirror_mode": {
    "name": "ipython",
    "version": 3
   },
   "file_extension": ".py",
   "mimetype": "text/x-python",
   "name": "python",
   "nbconvert_exporter": "python",
   "pygments_lexer": "ipython3",
   "version": "3.9.7"
  }
 },
 "nbformat": 4,
 "nbformat_minor": 5
}
